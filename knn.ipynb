{
 "cells": [
  {
   "cell_type": "code",
   "execution_count": null,
   "metadata": {},
   "outputs": [],
   "source": [
    "# on the basis of sentence length\n",
    "\n",
    "import numpy as np\n",
    "from os import listdir\n",
    "import nltk\n",
    "from sklearn import neighbors\n",
    "\n",
    "mypath = 'data/'\n",
    "folders = [f for f in listdir(mypath)]\n",
    "\n",
    "ctr = 0\n",
    "folder_mapping = {}\n",
    "for folder in folders:\n",
    "    folder_mapping[folder] = ctr\n",
    "    ctr += 1\n",
    "\n",
    "X = np.array([])\n",
    "Y = np.array([])\n",
    "\n",
    "\n",
    "def label(f):\n",
    "    try:\n",
    "        return folder_mapping[f]\n",
    "    except:\n",
    "        print(\"Error : No Such Folder\")\n",
    "        exit(1)\n",
    "\n",
    "\n",
    "for folder in folders:\n",
    "    files = [file for file in listdir(mypath + folder + \"/\")]\n",
    "    avg_sen_len_vec = np.array([])\n",
    "    for file in files:\n",
    "        try:\n",
    "            text = open(mypath + folder + \"/\" + file).read().lower().replace(u'\\ufeff', '').replace(u'\\n', ' ')\n",
    "            sentences = nltk.sent_tokenize(text)\n",
    "            sen_len_vec = np.array([])\n",
    "            for sentence in sentences:\n",
    "                sen_len_vec = np.append(sen_len_vec, len(nltk.word_tokenize(sentence)))\n",
    "            avg_sen_len_vec = np.append(avg_sen_len_vec, np.mean(sen_len_vec))\n",
    "            X = np.append(X, np.mean(sen_len_vec))\n",
    "            Y = np.append(Y, label(folder))\n",
    "        except:\n",
    "            print(\"Error : Could not read the\", folder + \"/\" + file)"
   ]
  },
  {
   "cell_type": "code",
   "execution_count": null,
   "metadata": {},
   "outputs": [],
   "source": [
    "knn = neighbors.KNeighborsClassifier()\n",
    "\n",
    "h = .02\n",
    "X = X.reshape(-1,1)\n",
    "knn.fit(X, Y)"
   ]
  },
  {
   "cell_type": "code",
   "execution_count": 13,
   "metadata": {},
   "outputs": [
    {
     "data": {
      "text/plain": [
       "array([ 4.])"
      ]
     },
     "execution_count": 13,
     "metadata": {},
     "output_type": "execute_result"
    }
   ],
   "source": [
    "knn.predict(X[0][0])"
   ]
  },
  {
   "cell_type": "code",
   "execution_count": 14,
   "metadata": {},
   "outputs": [
    {
     "data": {
      "text/plain": [
       "array([[ 14.69034091],\n",
       "       [ 11.85528719],\n",
       "       [ 15.90117647],\n",
       "       [ 16.69518191],\n",
       "       [ 21.80821918],\n",
       "       [ 17.65410498],\n",
       "       [ 12.94928335],\n",
       "       [ 25.1193609 ],\n",
       "       [ 21.9009434 ],\n",
       "       [ 17.07844631],\n",
       "       [ 20.98032787],\n",
       "       [ 21.81055901],\n",
       "       [ 24.84128706],\n",
       "       [ 14.97376789],\n",
       "       [ 14.39747634],\n",
       "       [ 23.09514748],\n",
       "       [ 14.75061425],\n",
       "       [ 21.66339869],\n",
       "       [ 13.93932647],\n",
       "       [ 15.07909605],\n",
       "       [ 27.24938097],\n",
       "       [ 29.11684276],\n",
       "       [ 25.30449827],\n",
       "       [ 29.02322465],\n",
       "       [ 30.07871287],\n",
       "       [ 76.69427245],\n",
       "       [ 29.61152416],\n",
       "       [ 23.12014563],\n",
       "       [ 24.39361702],\n",
       "       [ 39.98936662],\n",
       "       [ 27.86134454],\n",
       "       [ 26.55033227],\n",
       "       [ 26.5494442 ],\n",
       "       [ 30.73825104],\n",
       "       [ 20.05457909],\n",
       "       [ 30.05816286],\n",
       "       [ 29.03054662],\n",
       "       [ 26.41446208],\n",
       "       [ 18.53157705],\n",
       "       [ 26.63299233],\n",
       "       [ 25.5059399 ],\n",
       "       [ 38.11708204],\n",
       "       [ 24.17338004],\n",
       "       [ 21.1169298 ],\n",
       "       [ 45.53840445],\n",
       "       [ 31.62382865],\n",
       "       [ 28.6603352 ],\n",
       "       [ 32.31822603],\n",
       "       [ 34.79649646],\n",
       "       [ 32.31615324],\n",
       "       [ 26.73276596],\n",
       "       [ 23.79579777],\n",
       "       [ 26.5140358 ],\n",
       "       [ 29.97510149],\n",
       "       [ 37.2115323 ],\n",
       "       [ 30.74497438],\n",
       "       [ 32.07785467],\n",
       "       [ 15.52322206],\n",
       "       [ 21.10768523],\n",
       "       [ 29.60602981],\n",
       "       [ 21.12741103],\n",
       "       [ 30.79569892],\n",
       "       [ 34.081571  ],\n",
       "       [ 23.97120419],\n",
       "       [ 35.0970611 ],\n",
       "       [ 44.30743243],\n",
       "       [ 26.96952909],\n",
       "       [ 32.58445946],\n",
       "       [ 38.00392927],\n",
       "       [ 22.18705036],\n",
       "       [ 27.0012215 ],\n",
       "       [ 23.43864386],\n",
       "       [ 23.68585944],\n",
       "       [ 22.68577729],\n",
       "       [ 15.19563662],\n",
       "       [ 22.27707809],\n",
       "       [ 23.28465884],\n",
       "       [ 20.301804  ],\n",
       "       [ 29.91121634],\n",
       "       [ 23.08893485],\n",
       "       [ 26.8853606 ],\n",
       "       [ 30.50625411],\n",
       "       [ 28.64022498],\n",
       "       [ 28.68526434],\n",
       "       [ 19.14316703],\n",
       "       [ 29.60315375],\n",
       "       [ 18.54170107],\n",
       "       [ 30.43525896],\n",
       "       [ 25.37928007]])"
      ]
     },
     "execution_count": 14,
     "metadata": {},
     "output_type": "execute_result"
    }
   ],
   "source": [
    "X"
   ]
  },
  {
   "cell_type": "code",
   "execution_count": null,
   "metadata": {},
   "outputs": [],
   "source": []
  }
 ],
 "metadata": {
  "kernelspec": {
   "display_name": "Python 3",
   "language": "python",
   "name": "python3"
  },
  "language_info": {
   "codemirror_mode": {
    "name": "ipython",
    "version": 3
   },
   "file_extension": ".py",
   "mimetype": "text/x-python",
   "name": "python",
   "nbconvert_exporter": "python",
   "pygments_lexer": "ipython3",
   "version": "3.6.3"
  }
 },
 "nbformat": 4,
 "nbformat_minor": 2
}
